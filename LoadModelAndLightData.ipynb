{
 "cells": [
  {
   "cell_type": "code",
   "execution_count": 1,
   "metadata": {},
   "outputs": [
    {
     "data": {
      "text/html": [
       "<style>\n",
       "div.input {\n",
       "    display:none;\n",
       "}\n",
       "</style>"
      ],
      "text/plain": [
       "<IPython.core.display.HTML object>"
      ]
     },
     "metadata": {},
     "output_type": "display_data"
    }
   ],
   "source": [
    "%%html\n",
    "<style>\n",
    "div.input {\n",
    "    display:none;\n",
    "}\n",
    "</style>"
   ]
  },
  {
   "cell_type": "markdown",
   "metadata": {},
   "source": [
    "# \"Predict\" Flight Status in 2015"
   ]
  },
  {
   "cell_type": "code",
   "execution_count": 2,
   "metadata": {},
   "outputs": [
    {
     "name": "stderr",
     "output_type": "stream",
     "text": [
      "Using TensorFlow backend.\n"
     ]
    }
   ],
   "source": [
    "import warnings\n",
    "warnings.filterwarnings('ignore')\n",
    "import pandas as pd\n",
    "import numpy as np\n",
    "from keras.models import load_model\n",
    "from sklearn.preprocessing import OneHotEncoder, StandardScaler\n",
    "from IPython.display import clear_output\n",
    "import ipywidgets as widgets\n",
    "import datetime"
   ]
  },
  {
   "cell_type": "code",
   "execution_count": 3,
   "metadata": {},
   "outputs": [],
   "source": [
    "model = load_model('New-Trained-Model.h5')\n",
    "df = pd.read_hdf('df_weather_pred.h5', 'w')\n",
    "airlines=['UA', 'AA', 'US', 'F9', 'B6', 'OO', 'AS', 'NK', 'WN', 'DL', 'EV', 'HA', 'MQ', 'VX']\n",
    "status = ['On Time', 'Diverted', 'Weather Cancelled', 'Weather Delayed']"
   ]
  },
  {
   "cell_type": "code",
   "execution_count": 4,
   "metadata": {},
   "outputs": [],
   "source": [
    "def findFeatureRow(airline, airport, date, hour):\n",
    "    print('====Finding weather data for your flight departure time...')\n",
    "    dateHour = '%s %02d' % (date, hour)\n",
    "    df_weather = df.loc[(df.dateHour==dateHour) & (df.airport==airport)]\n",
    "    df_weather['AIRLINE'] = airline\n",
    "    \n",
    "    # Move AIRLINE column to the front\n",
    "    df_pred = pd.DataFrame()\n",
    "    df_pred['AIRLINE'] = df_weather['AIRLINE'].astype('category', categories=airlines)\n",
    "    df_weather = df_weather.drop(['AIRLINE'], axis=1)\n",
    "    df_pred = pd.concat([df_pred, df_weather], axis=1, join='inner')\n",
    "    \n",
    "    print('Weather data found for your flight:')\n",
    "    display(df_pred)\n",
    "    print()\n",
    "    \n",
    "    print('====Predicting Flight Status...')\n",
    "    df_pred = df_pred.drop(['dateHour'], axis=1)\n",
    "    df_pred = pd.get_dummies(df_pred)\n",
    "    df_pred = df_pred.fillna(0.0)\n",
    "    result = model.predict(df_pred)\n",
    "    print('Predicted Flight Status:', status[result.argmax()])\n",
    "    print('Predicted Possibility:', result[0][result.argmax()])\n",
    "    print('Raw Prediction:', result[0])\n",
    "    print()"
   ]
  },
  {
   "cell_type": "code",
   "execution_count": 5,
   "metadata": {},
   "outputs": [
    {
     "data": {
      "application/vnd.jupyter.widget-view+json": {
       "model_id": "2e9cfa059651491e9ab5aec13bbf3679",
       "version_major": 2,
       "version_minor": 0
      },
      "text/plain": [
       "Dropdown(description='Airline:', index=1, options=('UA', 'AA', 'US', 'F9', 'B6', 'OO', 'AS', 'NK', 'WN', 'DL',…"
      ]
     },
     "metadata": {},
     "output_type": "display_data"
    },
    {
     "data": {
      "application/vnd.jupyter.widget-view+json": {
       "model_id": "12921369f1af44ca946707020d357f9d",
       "version_major": 2,
       "version_minor": 0
      },
      "text/plain": [
       "Text(value='IND', description='Airport', placeholder='Departure Airport')"
      ]
     },
     "metadata": {},
     "output_type": "display_data"
    },
    {
     "data": {
      "application/vnd.jupyter.widget-view+json": {
       "model_id": "c27b7c6c570b4f76830b74881de42212",
       "version_major": 2,
       "version_minor": 0
      },
      "text/plain": [
       "DatePicker(value=datetime.date(2015, 1, 1), description='Date')"
      ]
     },
     "metadata": {},
     "output_type": "display_data"
    },
    {
     "data": {
      "application/vnd.jupyter.widget-view+json": {
       "model_id": "48eb15e3b866446ba7dd576583079f1a",
       "version_major": 2,
       "version_minor": 0
      },
      "text/plain": [
       "Dropdown(description='Hour', options=(0, 1, 2, 3, 4, 5, 6, 7, 8, 9, 10, 11, 12, 13, 14, 15, 16, 17, 18, 19, 20…"
      ]
     },
     "metadata": {},
     "output_type": "display_data"
    },
    {
     "data": {
      "application/vnd.jupyter.widget-view+json": {
       "model_id": "6a2cc9b5f09e4919b45f8fee25a5f30b",
       "version_major": 2,
       "version_minor": 0
      },
      "text/plain": [
       "Button(description='Predict', icon='check', style=ButtonStyle(), tooltip='Click for prediction')"
      ]
     },
     "metadata": {},
     "output_type": "display_data"
    },
    {
     "name": "stdout",
     "output_type": "stream",
     "text": [
      "====Finding weather data for your flight departure time...\n",
      "Weather data found for your flight:\n"
     ]
    },
    {
     "data": {
      "text/html": [
       "<div>\n",
       "<style scoped>\n",
       "    .dataframe tbody tr th:only-of-type {\n",
       "        vertical-align: middle;\n",
       "    }\n",
       "\n",
       "    .dataframe tbody tr th {\n",
       "        vertical-align: top;\n",
       "    }\n",
       "\n",
       "    .dataframe thead th {\n",
       "        text-align: right;\n",
       "    }\n",
       "</style>\n",
       "<table border=\"1\" class=\"dataframe\">\n",
       "  <thead>\n",
       "    <tr style=\"text-align: right;\">\n",
       "      <th></th>\n",
       "      <th>AIRLINE</th>\n",
       "      <th>airport</th>\n",
       "      <th>apparentTemperature</th>\n",
       "      <th>cloudCover</th>\n",
       "      <th>dewPoint</th>\n",
       "      <th>humidity</th>\n",
       "      <th>precipAccumulation</th>\n",
       "      <th>precipIntensity</th>\n",
       "      <th>precipProbability</th>\n",
       "      <th>precipType</th>\n",
       "      <th>pressure</th>\n",
       "      <th>summary</th>\n",
       "      <th>temperature</th>\n",
       "      <th>uvIndex</th>\n",
       "      <th>visibility</th>\n",
       "      <th>windBearing</th>\n",
       "      <th>windGust</th>\n",
       "      <th>windSpeed</th>\n",
       "      <th>dateHour</th>\n",
       "    </tr>\n",
       "  </thead>\n",
       "  <tbody>\n",
       "    <tr>\n",
       "      <th>1366517</th>\n",
       "      <td>AA</td>\n",
       "      <td>IND</td>\n",
       "      <td>14.04</td>\n",
       "      <td>0.0</td>\n",
       "      <td>8.9</td>\n",
       "      <td>0.61</td>\n",
       "      <td>NaN</td>\n",
       "      <td>0.0</td>\n",
       "      <td>0.0</td>\n",
       "      <td>NaN</td>\n",
       "      <td>1027.11</td>\n",
       "      <td>Clear</td>\n",
       "      <td>20.15</td>\n",
       "      <td>0.0</td>\n",
       "      <td>10.0</td>\n",
       "      <td>235.0</td>\n",
       "      <td>11.43</td>\n",
       "      <td>4.27</td>\n",
       "      <td>2015-01-01 00</td>\n",
       "    </tr>\n",
       "  </tbody>\n",
       "</table>\n",
       "</div>"
      ],
      "text/plain": [
       "        AIRLINE airport  apparentTemperature  cloudCover  dewPoint  humidity  \\\n",
       "1366517      AA     IND                14.04         0.0       8.9      0.61   \n",
       "\n",
       "         precipAccumulation  precipIntensity  precipProbability precipType  \\\n",
       "1366517                 NaN              0.0                0.0        NaN   \n",
       "\n",
       "         pressure summary  temperature  uvIndex  visibility  windBearing  \\\n",
       "1366517   1027.11   Clear        20.15      0.0        10.0        235.0   \n",
       "\n",
       "         windGust  windSpeed       dateHour  \n",
       "1366517     11.43       4.27  2015-01-01 00  "
      ]
     },
     "metadata": {},
     "output_type": "display_data"
    },
    {
     "name": "stdout",
     "output_type": "stream",
     "text": [
      "\n",
      "====Predicting Flight Status...\n",
      "Predicted Flight Status: Weather Delayed\n",
      "Predicted Possibility: 0.76788723\n",
      "Raw Prediction: [0.20301165 0.00321211 0.02588903 0.76788723]\n",
      "\n",
      "====Finding weather data for your flight departure time...\n",
      "Weather data found for your flight:\n"
     ]
    },
    {
     "data": {
      "text/html": [
       "<div>\n",
       "<style scoped>\n",
       "    .dataframe tbody tr th:only-of-type {\n",
       "        vertical-align: middle;\n",
       "    }\n",
       "\n",
       "    .dataframe tbody tr th {\n",
       "        vertical-align: top;\n",
       "    }\n",
       "\n",
       "    .dataframe thead th {\n",
       "        text-align: right;\n",
       "    }\n",
       "</style>\n",
       "<table border=\"1\" class=\"dataframe\">\n",
       "  <thead>\n",
       "    <tr style=\"text-align: right;\">\n",
       "      <th></th>\n",
       "      <th>AIRLINE</th>\n",
       "      <th>airport</th>\n",
       "      <th>apparentTemperature</th>\n",
       "      <th>cloudCover</th>\n",
       "      <th>dewPoint</th>\n",
       "      <th>humidity</th>\n",
       "      <th>precipAccumulation</th>\n",
       "      <th>precipIntensity</th>\n",
       "      <th>precipProbability</th>\n",
       "      <th>precipType</th>\n",
       "      <th>pressure</th>\n",
       "      <th>summary</th>\n",
       "      <th>temperature</th>\n",
       "      <th>uvIndex</th>\n",
       "      <th>visibility</th>\n",
       "      <th>windBearing</th>\n",
       "      <th>windGust</th>\n",
       "      <th>windSpeed</th>\n",
       "      <th>dateHour</th>\n",
       "    </tr>\n",
       "  </thead>\n",
       "  <tbody>\n",
       "    <tr>\n",
       "      <th>1590250</th>\n",
       "      <td>OO</td>\n",
       "      <td>LGA</td>\n",
       "      <td>62.93</td>\n",
       "      <td>0.21</td>\n",
       "      <td>58.19</td>\n",
       "      <td>0.85</td>\n",
       "      <td>NaN</td>\n",
       "      <td>0.0</td>\n",
       "      <td>0.0</td>\n",
       "      <td>NaN</td>\n",
       "      <td>1019.19</td>\n",
       "      <td>Clear</td>\n",
       "      <td>62.93</td>\n",
       "      <td>0.0</td>\n",
       "      <td>9.78</td>\n",
       "      <td>248.0</td>\n",
       "      <td>0.98</td>\n",
       "      <td>0.74</td>\n",
       "      <td>2015-07-17 06</td>\n",
       "    </tr>\n",
       "  </tbody>\n",
       "</table>\n",
       "</div>"
      ],
      "text/plain": [
       "        AIRLINE airport  apparentTemperature  cloudCover  dewPoint  humidity  \\\n",
       "1590250      OO     LGA                62.93        0.21     58.19      0.85   \n",
       "\n",
       "         precipAccumulation  precipIntensity  precipProbability precipType  \\\n",
       "1590250                 NaN              0.0                0.0        NaN   \n",
       "\n",
       "         pressure summary  temperature  uvIndex  visibility  windBearing  \\\n",
       "1590250   1019.19   Clear        62.93      0.0        9.78        248.0   \n",
       "\n",
       "         windGust  windSpeed       dateHour  \n",
       "1590250      0.98       0.74  2015-07-17 06  "
      ]
     },
     "metadata": {},
     "output_type": "display_data"
    },
    {
     "name": "stdout",
     "output_type": "stream",
     "text": [
      "\n",
      "====Predicting Flight Status...\n",
      "Predicted Flight Status: Weather Delayed\n",
      "Predicted Possibility: 0.8121991\n",
      "Raw Prediction: [0.17937714 0.00238675 0.00603691 0.8121991 ]\n",
      "\n",
      "====Finding weather data for your flight departure time...\n",
      "Weather data found for your flight:\n"
     ]
    },
    {
     "data": {
      "text/html": [
       "<div>\n",
       "<style scoped>\n",
       "    .dataframe tbody tr th:only-of-type {\n",
       "        vertical-align: middle;\n",
       "    }\n",
       "\n",
       "    .dataframe tbody tr th {\n",
       "        vertical-align: top;\n",
       "    }\n",
       "\n",
       "    .dataframe thead th {\n",
       "        text-align: right;\n",
       "    }\n",
       "</style>\n",
       "<table border=\"1\" class=\"dataframe\">\n",
       "  <thead>\n",
       "    <tr style=\"text-align: right;\">\n",
       "      <th></th>\n",
       "      <th>AIRLINE</th>\n",
       "      <th>airport</th>\n",
       "      <th>apparentTemperature</th>\n",
       "      <th>cloudCover</th>\n",
       "      <th>dewPoint</th>\n",
       "      <th>humidity</th>\n",
       "      <th>precipAccumulation</th>\n",
       "      <th>precipIntensity</th>\n",
       "      <th>precipProbability</th>\n",
       "      <th>precipType</th>\n",
       "      <th>pressure</th>\n",
       "      <th>summary</th>\n",
       "      <th>temperature</th>\n",
       "      <th>uvIndex</th>\n",
       "      <th>visibility</th>\n",
       "      <th>windBearing</th>\n",
       "      <th>windGust</th>\n",
       "      <th>windSpeed</th>\n",
       "      <th>dateHour</th>\n",
       "    </tr>\n",
       "  </thead>\n",
       "  <tbody>\n",
       "    <tr>\n",
       "      <th>2433292</th>\n",
       "      <td>UA</td>\n",
       "      <td>SFO</td>\n",
       "      <td>79.91</td>\n",
       "      <td>0.4</td>\n",
       "      <td>56.99</td>\n",
       "      <td>0.46</td>\n",
       "      <td>NaN</td>\n",
       "      <td>0.0</td>\n",
       "      <td>0.0</td>\n",
       "      <td>NaN</td>\n",
       "      <td>1014.73</td>\n",
       "      <td>Partly Cloudy</td>\n",
       "      <td>79.91</td>\n",
       "      <td>4.0</td>\n",
       "      <td>10.0</td>\n",
       "      <td>292.0</td>\n",
       "      <td>7.41</td>\n",
       "      <td>2.97</td>\n",
       "      <td>2015-10-14 14</td>\n",
       "    </tr>\n",
       "  </tbody>\n",
       "</table>\n",
       "</div>"
      ],
      "text/plain": [
       "        AIRLINE airport  apparentTemperature  cloudCover  dewPoint  humidity  \\\n",
       "2433292      UA     SFO                79.91         0.4     56.99      0.46   \n",
       "\n",
       "         precipAccumulation  precipIntensity  precipProbability precipType  \\\n",
       "2433292                 NaN              0.0                0.0        NaN   \n",
       "\n",
       "         pressure        summary  temperature  uvIndex  visibility  \\\n",
       "2433292   1014.73  Partly Cloudy        79.91      4.0        10.0   \n",
       "\n",
       "         windBearing  windGust  windSpeed       dateHour  \n",
       "2433292        292.0      7.41       2.97  2015-10-14 14  "
      ]
     },
     "metadata": {},
     "output_type": "display_data"
    },
    {
     "name": "stdout",
     "output_type": "stream",
     "text": [
      "\n",
      "====Predicting Flight Status...\n",
      "Predicted Flight Status: Weather Delayed\n",
      "Predicted Possibility: 0.8121991\n",
      "Raw Prediction: [0.17937714 0.00238675 0.00603691 0.8121991 ]\n",
      "\n",
      "====Finding weather data for your flight departure time...\n",
      "Weather data found for your flight:\n"
     ]
    },
    {
     "data": {
      "text/html": [
       "<div>\n",
       "<style scoped>\n",
       "    .dataframe tbody tr th:only-of-type {\n",
       "        vertical-align: middle;\n",
       "    }\n",
       "\n",
       "    .dataframe tbody tr th {\n",
       "        vertical-align: top;\n",
       "    }\n",
       "\n",
       "    .dataframe thead th {\n",
       "        text-align: right;\n",
       "    }\n",
       "</style>\n",
       "<table border=\"1\" class=\"dataframe\">\n",
       "  <thead>\n",
       "    <tr style=\"text-align: right;\">\n",
       "      <th></th>\n",
       "      <th>AIRLINE</th>\n",
       "      <th>airport</th>\n",
       "      <th>apparentTemperature</th>\n",
       "      <th>cloudCover</th>\n",
       "      <th>dewPoint</th>\n",
       "      <th>humidity</th>\n",
       "      <th>precipAccumulation</th>\n",
       "      <th>precipIntensity</th>\n",
       "      <th>precipProbability</th>\n",
       "      <th>precipType</th>\n",
       "      <th>pressure</th>\n",
       "      <th>summary</th>\n",
       "      <th>temperature</th>\n",
       "      <th>uvIndex</th>\n",
       "      <th>visibility</th>\n",
       "      <th>windBearing</th>\n",
       "      <th>windGust</th>\n",
       "      <th>windSpeed</th>\n",
       "      <th>dateHour</th>\n",
       "    </tr>\n",
       "  </thead>\n",
       "  <tbody>\n",
       "    <tr>\n",
       "      <th>2424905</th>\n",
       "      <td>NK</td>\n",
       "      <td>SEA</td>\n",
       "      <td>54.57</td>\n",
       "      <td>1.0</td>\n",
       "      <td>53.08</td>\n",
       "      <td>0.95</td>\n",
       "      <td>NaN</td>\n",
       "      <td>0.0179</td>\n",
       "      <td>0.88</td>\n",
       "      <td>rain</td>\n",
       "      <td>1012.22</td>\n",
       "      <td>Light Rain</td>\n",
       "      <td>54.57</td>\n",
       "      <td>0.0</td>\n",
       "      <td>10.0</td>\n",
       "      <td>173.0</td>\n",
       "      <td>8.27</td>\n",
       "      <td>4.04</td>\n",
       "      <td>2015-10-30 03</td>\n",
       "    </tr>\n",
       "  </tbody>\n",
       "</table>\n",
       "</div>"
      ],
      "text/plain": [
       "        AIRLINE airport  apparentTemperature  cloudCover  dewPoint  humidity  \\\n",
       "2424905      NK     SEA                54.57         1.0     53.08      0.95   \n",
       "\n",
       "         precipAccumulation  precipIntensity  precipProbability precipType  \\\n",
       "2424905                 NaN           0.0179               0.88       rain   \n",
       "\n",
       "         pressure     summary  temperature  uvIndex  visibility  windBearing  \\\n",
       "2424905   1012.22  Light Rain        54.57      0.0        10.0        173.0   \n",
       "\n",
       "         windGust  windSpeed       dateHour  \n",
       "2424905      8.27       4.04  2015-10-30 03  "
      ]
     },
     "metadata": {},
     "output_type": "display_data"
    },
    {
     "name": "stdout",
     "output_type": "stream",
     "text": [
      "\n",
      "====Predicting Flight Status...\n",
      "Predicted Flight Status: Weather Delayed\n",
      "Predicted Possibility: 0.81114715\n",
      "Raw Prediction: [0.17993736 0.0024235  0.00649201 0.81114715]\n",
      "\n"
     ]
    }
   ],
   "source": [
    "airline = widgets.Dropdown(\n",
    "    options=['UA', 'AA', 'US', 'F9', 'B6', 'OO', 'AS', 'NK', 'WN', 'DL', 'EV', 'HA', 'MQ', 'VX'],\n",
    "    value='AA',\n",
    "    description='Airline:',\n",
    "    disabled=False,\n",
    ")\n",
    "\n",
    "airport = widgets.Text(\n",
    "    value='IND',\n",
    "    placeholder='Departure Airport',\n",
    "    description='Airport',\n",
    "    disabled=False\n",
    ")\n",
    "\n",
    "date = widgets.DatePicker(\n",
    "    description='Date',\n",
    "    value=datetime.date(2015, 1, 1),\n",
    "    disabled=False\n",
    ")\n",
    "\n",
    "hour = widgets.Dropdown(\n",
    "    options=list(range(0,24)),\n",
    "    value=0,\n",
    "    description='Hour',\n",
    "    disabled=False,\n",
    ")\n",
    "\n",
    "button = widgets.Button(\n",
    "    description='Predict',\n",
    "    disabled=False,\n",
    "    button_style='',\n",
    "    tooltip='Click for prediction',\n",
    "    icon='check'\n",
    ")\n",
    "\n",
    "def button_on_click(b):\n",
    "    findFeatureRow(airline.value, airport.value, date.value, hour.value)\n",
    "\n",
    "button.on_click(button_on_click)\n",
    "\n",
    "display(airline, airport, date, hour, button)"
   ]
  },
  {
   "cell_type": "code",
   "execution_count": null,
   "metadata": {},
   "outputs": [],
   "source": []
  }
 ],
 "metadata": {
  "kernelspec": {
   "display_name": "Python 3",
   "language": "python",
   "name": "python3"
  },
  "language_info": {
   "codemirror_mode": {
    "name": "ipython",
    "version": 3
   },
   "file_extension": ".py",
   "mimetype": "text/x-python",
   "name": "python",
   "nbconvert_exporter": "python",
   "pygments_lexer": "ipython3",
   "version": "3.6.5"
  }
 },
 "nbformat": 4,
 "nbformat_minor": 2
}
